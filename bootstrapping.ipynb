{
 "cells": [
  {
   "cell_type": "markdown",
   "metadata": {},
   "source": [
    "# Bootstrapping\n",
    "\n",
    "useful when:\n",
    "1. limited sample size\n",
    "2. looking for a confidence interval of the classification error\n",
    "3. it can be useful with highly noised data where ignoring or reusing a single data point has significant impact\n",
    "    - while it doesn't fix the noisy data, it helps you **measure uncertainty**\n",
    "    - it is a tool to **observe** how sensitive a model is\n",
    "    \n",
    "in other words, bootstrapping is helpful for estimating how much the model's performance might vary due to individual data points, especially in small or noisy datasets.\n",
    "\n",
    "---\n",
    "\n",
    "how does it work?\n",
    "\n",
    "\n",
    "1. start with the original data set of size n\n",
    "\n",
    "2. randomly sample n data points with **replacement** to create a new dataset (called a bootstrap sample)\n",
    "    - some data points may appear multiple times.\n",
    "    - some may be left out entirely.\n",
    "\n",
    "3. train the model on this bootstrap sample\n",
    "\n",
    "4. record the result (for example classification error)\n",
    "\n",
    "5. go back to step 2 for k times to get a distribution of the result\n",
    "\n",
    "\n",
    "\n",
    "> because of repeated sampling, bootstrapping may underestimate the true confidence interval, especially with small or highly variable datasets"
   ]
  }
 ],
 "metadata": {
  "language_info": {
   "name": "python"
  }
 },
 "nbformat": 4,
 "nbformat_minor": 2
}
